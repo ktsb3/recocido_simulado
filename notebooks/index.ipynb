{
 "cells": [
  {
   "cell_type": "code",
   "execution_count": null,
   "metadata": {},
   "outputs": [
    {
     "ename": "ModuleNotFoundError",
     "evalue": "No module named 'recocido_simulado.core'",
     "output_type": "error",
     "traceback": [
      "\u001b[0;31m--------------------------------------------------------------------\u001b[0m",
      "\u001b[0;31mModuleNotFoundError\u001b[0m                Traceback (most recent call last)",
      "\u001b[0;32m<ipython-input-2-2bb2b0b7c75b>\u001b[0m in \u001b[0;36m<module>\u001b[0;34m\u001b[0m\n\u001b[1;32m      1\u001b[0m \u001b[0;31m#hide\u001b[0m\u001b[0;34m\u001b[0m\u001b[0;34m\u001b[0m\u001b[0;34m\u001b[0m\u001b[0m\n\u001b[0;32m----> 2\u001b[0;31m \u001b[0;32mfrom\u001b[0m \u001b[0mrecocido_simulado\u001b[0m\u001b[0;34m.\u001b[0m\u001b[0mcore\u001b[0m \u001b[0;32mimport\u001b[0m \u001b[0;34m*\u001b[0m\u001b[0;34m\u001b[0m\u001b[0;34m\u001b[0m\u001b[0m\n\u001b[0m",
      "\u001b[0;31mModuleNotFoundError\u001b[0m: No module named 'recocido_simulado.core'"
     ]
    }
   ],
   "source": [
    "#hide\n",
    "from recocido_simulado.core import *"
   ]
  },
  {
   "cell_type": "markdown",
   "metadata": {},
   "source": [
    "# Recocido simulado para el problema del viajero\n",
    "\n",
    "> El objetivo general de este algoritmo es encontrar una buena aproximación al recorrido optimo de un viajero que debe pasar por todas las ciudades indicadas sin recorrer dos veces la misma ciudad y en el menor costo posible"
   ]
  },
  {
   "cell_type": "markdown",
   "metadata": {},
   "source": [
    "## Instalar"
   ]
  },
  {
   "cell_type": "markdown",
   "metadata": {},
   "source": [
    "`pip install recocido_simulado`"
   ]
  },
  {
   "cell_type": "markdown",
   "metadata": {},
   "source": [
    "## como usar"
   ]
  },
  {
   "cell_type": "markdown",
   "metadata": {},
   "source": [
    "### La primer linea de entrada recibira el número de ciudades que se consideran en el problema N\n",
    "\n",
    "### La segunda linea de entrada recibira la temperatura inicial T\n",
    "\n",
    "### Las siguientes N-1 lineas indicaran el costo de ir de una ciudad a otra\n",
    "\n",
    "### Entrada de ejemplo:\n",
    "\n",
    "#### 10\n",
    "#### 100\n",
    "#### 49 30 53 72 19 76 87 45 48\n",
    "#### 19 38 32 31 75 69 61 25\n",
    "#### 41 98 56 6 6 45 53\n",
    "#### 52 29 46 90 23 98\n",
    "#### 63 90 69 50 82\n",
    "#### 60 88 41 95\n",
    "#### 61 92 10\n",
    "#### 82 73\n",
    "#### 5"
   ]
  },
  {
   "cell_type": "code",
   "execution_count": null,
   "metadata": {},
   "outputs": [],
   "source": [
    "N, T, distances = inpt()"
   ]
  },
  {
   "cell_type": "markdown",
   "metadata": {},
   "source": [
    "#### N: numero de ciudades\n",
    "#### T: temperatura inicial\n",
    "#### distances: matriz de distancia"
   ]
  },
  {
   "cell_type": "markdown",
   "metadata": {},
   "source": [
    "### Posteriormente se llama la función que completa matrices, dado que el programa solo puede trabajar con matrices completas"
   ]
  },
  {
   "cell_type": "code",
   "execution_count": null,
   "metadata": {},
   "outputs": [],
   "source": [
    "distances_complete = fillmatrix(distances, N)"
   ]
  },
  {
   "cell_type": "markdown",
   "metadata": {},
   "source": [
    "### Por ultimo se llama la función que ejectua el recocido simulado, en la variable best_sol se almacena la mejor solución y en best_cost se almacena el costo de esta solución"
   ]
  },
  {
   "cell_type": "code",
   "execution_count": null,
   "metadata": {},
   "outputs": [],
   "source": [
    "best_sol, best_cost = recocido(N, T, distances_complete)\n",
    "\n",
    "print(best_sol)\n",
    "print(best_cost)"
   ]
  }
 ],
 "metadata": {
  "kernelspec": {
   "display_name": "Python 3",
   "language": "python",
   "name": "python3"
  },
  "language_info": {
   "codemirror_mode": {
    "name": "ipython",
    "version": 3
   },
   "file_extension": ".py",
   "mimetype": "text/x-python",
   "name": "python",
   "nbconvert_exporter": "python",
   "pygments_lexer": "ipython3",
   "version": "3.6.7"
  }
 },
 "nbformat": 4,
 "nbformat_minor": 4
}
