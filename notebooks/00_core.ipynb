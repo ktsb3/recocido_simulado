{
 "cells": [
  {
   "cell_type": "code",
   "execution_count": null,
   "metadata": {},
   "outputs": [],
   "source": [
    "#hide\n",
    "from nbdev.showdoc import *"
   ]
  },
  {
   "cell_type": "markdown",
   "metadata": {},
   "source": [
    "# recocido_simulado\n",
    "\n",
    "> To run recocido simulado."
   ]
  },
  {
   "cell_type": "code",
   "execution_count": null,
   "metadata": {},
   "outputs": [],
   "source": [
    "default_exp core"
   ]
  },
  {
   "cell_type": "code",
   "execution_count": null,
   "metadata": {},
   "outputs": [],
   "source": [
    "import random\n",
    "import copy\n",
    "import math"
   ]
  },
  {
   "cell_type": "code",
   "execution_count": null,
   "metadata": {},
   "outputs": [],
   "source": [
    "def toint(n):\n",
    "    n = int(n)\n",
    "    return n\n",
    "\n",
    "def intolist(inp):\n",
    "    inp = inp.split()\n",
    "    inp = list(map(toint, inp))\n",
    "    return inp\n",
    "\n",
    "def inpt():\n",
    "    N = int(input())\n",
    "    T = int(input())\n",
    "    dist = []\n",
    "    for i in range(N-1):\n",
    "        inp = input()\n",
    "        dist.append(intolist(inp))\n",
    "    return N, T, dist"
   ]
  },
  {
   "cell_type": "code",
   "execution_count": null,
   "metadata": {},
   "outputs": [],
   "source": [
    "def fillmatrix(distances, N):\n",
    "    distances_complete = []\n",
    "    rows = cols = N\n",
    "    distances_complete = [([0]*cols) for i in range(rows)]\n",
    "    for i in range(len(distances)):\n",
    "        for j in range(len(distances[i])):\n",
    "            distances_complete[i][j+1+i] = distances[i][j]\n",
    "            distances_complete[j+1+i][i] = distances[i][j]\n",
    "\n",
    "    return distances_complete"
   ]
  },
  {
   "cell_type": "code",
   "execution_count": null,
   "metadata": {},
   "outputs": [],
   "source": [
    "def greedy(distances_complete, N):\n",
    "    greedy_sol = [0]\n",
    "    c_actual = 0\n",
    "    c_obj = 1\n",
    "    mini = distances_complete[c_actual][1]\n",
    "    for i in range(N-2):\n",
    "        for j in range(N):\n",
    "            if distances_complete[c_actual][j] < mini and j not in greedy_sol and distances_complete[c_actual][j] != 0:\n",
    "                mini = distances_complete[c_actual][j]\n",
    "                c_obj = j\n",
    "        greedy_sol.append(c_obj)\n",
    "        c_actual = c_obj\n",
    "        mini = 100000000\n",
    "    missing = list(set(range(0, N)) - set(greedy_sol))\n",
    "    greedy_sol.append(missing[0])\n",
    "\n",
    "    return greedy_sol"
   ]
  },
  {
   "cell_type": "code",
   "execution_count": null,
   "metadata": {},
   "outputs": [],
   "source": [
    "def evaluate(distances_complete, solution):\n",
    "    cost = 0\n",
    "    for i in range(len(solution)-1):\n",
    "        cost += distances_complete[solution[i]][solution[i+1]]\n",
    "    cost += distances_complete[solution[0]][solution[-1]]\n",
    "    \n",
    "    return cost\n",
    "\n",
    "def new_temp(T):\n",
    "    return T*0.85"
   ]
  },
  {
   "cell_type": "code",
   "execution_count": null,
   "metadata": {},
   "outputs": [],
   "source": [
    "def recocido(N, T, distances_complete):\n",
    "    best_sol = greedy(distances_complete, N)\n",
    "    best_sol_cost = evaluate(distances_complete, best_sol)\n",
    "    overall_best = best_sol\n",
    "    overall_best_cost = best_sol_cost\n",
    "    while T > 0.0001:\n",
    "        pos1 = random.randint(0, N-1)\n",
    "        while True:\n",
    "            pos2 = random.randint(0, N-1)\n",
    "            if pos2 != pos1:\n",
    "                break\n",
    "        contender = copy.deepcopy(best_sol)\n",
    "        contender[pos1], contender[pos2] = contender[pos2], contender[pos1]\n",
    "        contender_cost = evaluate(distances_complete, contender)\n",
    "        if contender_cost < best_sol_cost:\n",
    "            best_sol_cost = contender_cost\n",
    "            best_sol = contender\n",
    "            if best_sol_cost < overall_best_cost:\n",
    "                overall_best_cost = best_sol_cost\n",
    "                overall_best = best_sol\n",
    "        else:\n",
    "            if random.random() < math.exp(-(contender_cost - best_sol_cost)/T):\n",
    "                best_sol_cost = contender_cost\n",
    "                best_sol = contender\n",
    "                if best_sol_cost < overall_best_cost:\n",
    "                    overall_best_cost = best_sol_cost\n",
    "                    overall_best = best_sol\n",
    "\n",
    "        T = new_temp(T)\n",
    "    \n",
    "    return overall_best, overall_best_cost"
   ]
  }
 ],
 "metadata": {
  "kernelspec": {
   "display_name": "Python 3",
   "language": "python",
   "name": "python3"
  }
 },
 "nbformat": 4,
 "nbformat_minor": 4
}
